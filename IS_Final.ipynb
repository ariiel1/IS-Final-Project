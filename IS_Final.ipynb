{
  "nbformat": 4,
  "nbformat_minor": 0,
  "metadata": {
    "colab": {
      "provenance": []
    },
    "kernelspec": {
      "name": "python3",
      "display_name": "Python 3"
    },
    "language_info": {
      "name": "python"
    },
    "accelerator": "GPU",
    "gpuClass": "standard"
  },
  "cells": [
    {
      "cell_type": "code",
      "source": [
        "# http://www.gutenberg.org/cache/epub/730/pg730.txt\n",
        "oliver_twist = open(\"oliver-twist.txt\", \"r\").read()\n",
        "print (oliver_twist[:64])\n",
        "\n",
        "text = oliver_twist"
      ],
      "metadata": {
        "id": "7BMxu11Dba-q",
        "colab": {
          "base_uri": "https://localhost:8080/"
        },
        "outputId": "73e9c51b-19a9-4b0e-a5bb-a0ae258b7333"
      },
      "execution_count": 81,
      "outputs": [
        {
          "output_type": "stream",
          "name": "stdout",
          "text": [
            "The Project Gutenberg eBook of Oliver Twist, by Charles Dickens\n",
            "\n"
          ]
        }
      ]
    },
    {
      "cell_type": "code",
      "source": [
        "import string\n",
        "\n",
        "# turn a doc into clean tokens\n",
        "def clean_doc(doc):\n",
        "    # replace '--' with a space ' '\n",
        "    doc = doc.replace('--', ' ')\n",
        "    # split into tokens by white space\n",
        "    tokens = doc.split()\n",
        "    # remove punctuation from each token\n",
        "    tokens = [' ' if w in string.punctuation else w for w in tokens]\n",
        "    # remove remaining tokens that are not alphabetic\n",
        "    tokens = [word for word in tokens if word.isalpha()]\n",
        "    # make lower case\n",
        "    tokens = [word.lower() for word in tokens]\n",
        "    return tokens\n",
        " \n",
        "tokens = clean_doc(text)\n",
        "\n",
        "number_of_unique_tokens = len(set(tokens))\n",
        "\n",
        "print('Total Tokens: %d' % len(tokens))\n",
        "print('Unique Tokens: %d' % number_of_unique_tokens)\n",
        "print('These are the first 200 tokens: %s' % tokens[:200])\n",
        "\n",
        "\n",
        "\n",
        "sequence_length = 2\n",
        "\n",
        "# organize into sequences of tokens of input words plus one output word\n",
        "length = sequence_length + 1\n",
        "sequences = list()\n",
        "for i in range(length, len(tokens)):\n",
        "    # select sequence of tokens\n",
        "    seq = tokens[i-length:i]\n",
        "    # convert into a line\n",
        "    line = ' '.join(seq)\n",
        "    # store\n",
        "    sequences.append(line)\n",
        "\n",
        "print ('Total Sequences: %d' % len(sequences))\n",
        "print ('This is the first sequence: {0}'.format(sequences[0]))"
      ],
      "metadata": {
        "id": "E3ygFo4mbmtn",
        "colab": {
          "base_uri": "https://localhost:8080/"
        },
        "outputId": "b1d99646-8083-4ad4-e423-eaa9258937bf"
      },
      "execution_count": 83,
      "outputs": [
        {
          "output_type": "stream",
          "name": "stdout",
          "text": [
            "Total Tokens: 123933\n",
            "Unique Tokens: 8526\n",
            "These are the first 200 tokens: ['the', 'project', 'gutenberg', 'ebook', 'of', 'oliver', 'by', 'charles', 'dickens', 'this', 'ebook', 'is', 'for', 'the', 'use', 'of', 'anyone', 'anywhere', 'in', 'the', 'united', 'states', 'and', 'most', 'other', 'parts', 'of', 'the', 'world', 'at', 'no', 'cost', 'and', 'with', 'almost', 'no', 'restrictions', 'you', 'may', 'copy', 'give', 'it', 'away', 'or', 'it', 'under', 'the', 'terms', 'of', 'the', 'project', 'gutenberg', 'license', 'included', 'with', 'this', 'ebook', 'or', 'online', 'at', 'if', 'you', 'are', 'not', 'located', 'in', 'the', 'united', 'you', 'will', 'have', 'to', 'check', 'the', 'laws', 'of', 'the', 'country', 'where', 'you', 'are', 'located', 'before', 'using', 'this', 'oliver', 'twist', 'charles', 'dickens', 'release', 'recently', 'june', 'english', 'produced', 'peggy', 'gaugy', 'and', 'leigh', 'html', 'version', 'by', 'al', 'start', 'of', 'the', 'project', 'gutenberg', 'ebook', 'oliver', 'twist', 'oliver', 'twist', 'or', 'the', 'parish', 'progress', 'by', 'charles', 'dickens', 'contents', 'i', 'treats', 'of', 'the', 'place', 'where', 'oliver', 'twist', 'was', 'born', 'and', 'of', 'the', 'circumstances', 'attending', 'his', 'birth', 'ii', 'treats', 'of', 'oliver', 'and', 'board', 'iii', 'relates', 'how', 'oliver', 'twist', 'was', 'very', 'near', 'getting', 'a', 'place', 'which', 'would', 'not', 'have', 'been', 'a', 'sinecure', 'iv', 'being', 'offered', 'another', 'makes', 'his', 'first', 'entry', 'into', 'public', 'life', 'v', 'oliver', 'mingles', 'with', 'new', 'going', 'to', 'a', 'funeral', 'for', 'the', 'first', 'he', 'forms', 'an', 'unfavourable', 'notion', 'of', 'his', 'business', 'vi', 'being', 'goaded', 'by', 'the', 'taunts', 'of', 'rouses']\n",
            "Total Sequences: 123930\n",
            "This is the first sequence: the project gutenberg\n"
          ]
        }
      ]
    },
    {
      "cell_type": "code",
      "source": [
        "from collections import Counter\n",
        "import matplotlib.pyplot as plt\n",
        "\n",
        "# get the 10 most common words\n",
        "common_words = Counter(tokens).most_common(10)\n",
        "\n",
        "# extract the words and count\n",
        "words = [word for word, count in common_words]\n",
        "counts = [count for word, count in common_words]\n",
        "\n",
        "# create the bar chart\n",
        "plt.bar(words, counts)\n",
        "plt.xlabel(\"Words\")\n",
        "plt.ylabel(\"Count\")\n",
        "plt.title(\"10 Most Common Words\")\n",
        "\n",
        "# show the chart\n",
        "plt.show()"
      ],
      "metadata": {
        "colab": {
          "base_uri": "https://localhost:8080/",
          "height": 295
        },
        "id": "sH4v4EAtH_Nw",
        "outputId": "88c869ca-2b93-4f94-ae97-7f901769f0b1"
      },
      "execution_count": 92,
      "outputs": [
        {
          "output_type": "display_data",
          "data": {
            "text/plain": [
              "<Figure size 432x288 with 1 Axes>"
            ],
            "image/png": "[encoded data removed]"
          },
          "metadata": {
            "needs_background": "light"
          }
        }
      ]
    },
    {
      "cell_type": "code",
      "source": [
        "import numpy as np\n",
        "from keras.preprocessing.text import Tokenizer\n",
        "from keras.utils import to_categorical\n",
        "from keras.models import Sequential\n",
        "from keras.layers import Dense\n",
        "from keras.layers import LSTM\n",
        "from keras.layers import Embedding\n",
        "from tensorflow.keras.optimizers import Adam\n",
        " \n",
        "tokenizer = Tokenizer()\n",
        "tokenizer.fit_on_texts(sequences)\n",
        "sequences = tokenizer.texts_to_sequences(sequences)\n",
        "# vocab_size = len(tokenizer.word_index) + 1\n",
        "vocab_size = number_of_unique_tokens + 1\n",
        " \n",
        "sequences0 = np.array(sequences)\n",
        "X, y = sequences0[:,:-1], sequences0[:,-1]\n",
        "y = to_categorical(y, num_classes=vocab_size)\n",
        "\n",
        "\n",
        "dimensions_to_represent_word = 100\n",
        " \n",
        "model = Sequential()\n",
        "model.add(Embedding(vocab_size, sequence_length, input_length=sequence_length))\n",
        "\n",
        "model.add(LSTM(500, return_sequences=True))\n",
        "model.add(LSTM(500))\n",
        "model.add(Dense(500, activation='relu'))\n",
        "model.add(Dense(vocab_size, activation='softmax'))\n",
        "print(model.summary())"
      ],
      "metadata": {
        "id": "UAq0mQhEbxpI",
        "colab": {
          "base_uri": "https://localhost:8080/"
        },
        "outputId": "80e300eb-a7e4-447e-cb1b-1b38ba196be2"
      },
      "execution_count": 13,
      "outputs": [
        {
          "output_type": "stream",
          "name": "stdout",
          "text": [
            "Model: \"sequential_1\"\n",
            "_________________________________________________________________\n",
            " Layer (type)                Output Shape              Param #   \n",
            "=================================================================\n",
            " embedding_1 (Embedding)     (None, 2, 2)              17054     \n",
            "                                                                 \n",
            " lstm_2 (LSTM)               (None, 2, 500)            1006000   \n",
            "                                                                 \n",
            " lstm_3 (LSTM)               (None, 500)               2002000   \n",
            "                                                                 \n",
            " dense_2 (Dense)             (None, 500)               250500    \n",
            "                                                                 \n",
            " dense_3 (Dense)             (None, 8527)              4272027   \n",
            "                                                                 \n",
            "=================================================================\n",
            "Total params: 7,547,581\n",
            "Trainable params: 7,547,581\n",
            "Non-trainable params: 0\n",
            "_________________________________________________________________\n",
            "None\n"
          ]
        }
      ]
    },
    {
      "cell_type": "code",
      "source": [
        "from tensorflow import keras\n",
        "from keras.utils.vis_utils import plot_model\n",
        "\n",
        "keras.utils.plot_model(model, to_file='model.png', show_layer_names=True, show_layer_activations=True, show_shapes=True)"
      ],
      "metadata": {
        "id": "yAh1H1B66uFJ",
        "colab": {
          "base_uri": "https://localhost:8080/",
          "height": 644
        },
        "outputId": "1c798a04-035d-4480-c1ae-16ec8b38d933"
      },
      "execution_count": 14,
      "outputs": [
        {
          "output_type": "execute_result",
          "data": {
            "image/png": "[encoded data removed]",
            "text/plain": [
              "<IPython.core.display.Image object>"
            ]
          },
          "metadata": {},
          "execution_count": 14
        }
      ]
    },
    {
      "cell_type": "code",
      "source": [
        "from tensorflow.keras.callbacks import ModelCheckpoint\n",
        "from tensorflow.keras.callbacks import ReduceLROnPlateau\n",
        "from tensorflow.keras.callbacks import TensorBoard\n",
        "\n",
        "checkpoint = ModelCheckpoint(\"model.h5\", monitor='loss', verbose=1,\n",
        "    save_best_only=True, mode='auto')\n",
        "\n",
        "# reduce = ReduceLROnPlateau(monitor='loss', factor=0.2, patience=3, min_lr=0.0001, verbose = 1)\n",
        "\n",
        "logdir='logsnextword1'\n",
        "tensorboard_Visualization = TensorBoard(log_dir=logdir)"
      ],
      "metadata": {
        "id": "Rc_k5isCNz07"
      },
      "execution_count": 15,
      "outputs": []
    },
    {
      "cell_type": "code",
      "source": [
        "model.compile(loss='categorical_crossentropy', optimizer=Adam(learning_rate=0.001))\n",
        "history = model.fit(X, y, batch_size=128, epochs=100, callbacks=[checkpoint, tensorboard_Visualization]).history"
      ],
      "metadata": {
        "id": "p1Weo0URbxtn",
        "colab": {
          "base_uri": "https://localhost:8080/"
        },
        "outputId": "b3f68abd-f6d8-4ab5-d54a-30be12d54295"
      },
      "execution_count": 16,
      "outputs": [
        {
          "output_type": "stream",
          "name": "stdout",
          "text": [
            "Epoch 1/100\n",
            "966/969 [============================>.] - ETA: 0s - loss: 6.3572\n",
            "Epoch 1: loss improved from inf to 6.35674, saving model to model.h5\n",
            "969/969 [==============================] - 13s 11ms/step - loss: 6.3567\n",
            "Epoch 2/100\n",
            "964/969 [============================>.] - ETA: 0s - loss: 6.0127\n",
            "Epoch 2: loss improved from 6.35674 to 6.01218, saving model to model.h5\n",
            "969/969 [==============================] - 10s 11ms/step - loss: 6.0122\n",
            "Epoch 3/100\n",
            "968/969 [============================>.] - ETA: 0s - loss: 5.7644\n",
            "Epoch 3: loss improved from 6.01218 to 5.76435, saving model to model.h5\n",
            "969/969 [==============================] - 10s 10ms/step - loss: 5.7644\n",
            "Epoch 4/100\n",
            "967/969 [============================>.] - ETA: 0s - loss: 5.5893\n",
            "Epoch 4: loss improved from 5.76435 to 5.58866, saving model to model.h5\n",
            "969/969 [==============================] - 10s 10ms/step - loss: 5.5887\n",
            "Epoch 5/100\n",
            "965/969 [============================>.] - ETA: 0s - loss: 5.4589\n",
            "Epoch 5: loss improved from 5.58866 to 5.45896, saving model to model.h5\n",
            "969/969 [==============================] - 10s 10ms/step - loss: 5.4590\n",
            "Epoch 6/100\n",
            "969/969 [==============================] - ETA: 0s - loss: 5.3502\n",
            "Epoch 6: loss improved from 5.45896 to 5.35020, saving model to model.h5\n",
            "969/969 [==============================] - 10s 11ms/step - loss: 5.3502\n",
            "Epoch 7/100\n",
            "966/969 [============================>.] - ETA: 0s - loss: 5.2523\n",
            "Epoch 7: loss improved from 5.35020 to 5.25232, saving model to model.h5\n",
            "969/969 [==============================] - 11s 11ms/step - loss: 5.2523\n",
            "Epoch 8/100\n",
            "966/969 [============================>.] - ETA: 0s - loss: 5.1594\n",
            "Epoch 8: loss improved from 5.25232 to 5.15908, saving model to model.h5\n",
            "969/969 [==============================] - 10s 10ms/step - loss: 5.1591\n",
            "Epoch 9/100\n",
            "966/969 [============================>.] - ETA: 0s - loss: 5.0662\n",
            "Epoch 9: loss improved from 5.15908 to 5.06644, saving model to model.h5\n",
            "969/969 [==============================] - 10s 10ms/step - loss: 5.0664\n",
            "Epoch 10/100\n",
            "967/969 [============================>.] - ETA: 0s - loss: 4.9741\n",
            "Epoch 10: loss improved from 5.06644 to 4.97400, saving model to model.h5\n",
            "969/969 [==============================] - 10s 10ms/step - loss: 4.9740\n",
            "Epoch 11/100\n",
            "964/969 [============================>.] - ETA: 0s - loss: 4.8806\n",
            "Epoch 11: loss improved from 4.97400 to 4.88039, saving model to model.h5\n",
            "969/969 [==============================] - 10s 10ms/step - loss: 4.8804\n",
            "Epoch 12/100\n",
            "969/969 [==============================] - ETA: 0s - loss: 4.7900\n",
            "Epoch 12: loss improved from 4.88039 to 4.78996, saving model to model.h5\n",
            "969/969 [==============================] - 10s 10ms/step - loss: 4.7900\n",
            "Epoch 13/100\n",
            "968/969 [============================>.] - ETA: 0s - loss: 4.7064\n",
            "Epoch 13: loss improved from 4.78996 to 4.70621, saving model to model.h5\n",
            "969/969 [==============================] - 10s 10ms/step - loss: 4.7062\n",
            "Epoch 14/100\n",
            "965/969 [============================>.] - ETA: 0s - loss: 4.6295\n",
            "Epoch 14: loss improved from 4.70621 to 4.62987, saving model to model.h5\n",
            "969/969 [==============================] - 10s 10ms/step - loss: 4.6299\n",
            "Epoch 15/100\n",
            "966/969 [============================>.] - ETA: 0s - loss: 4.5601\n",
            "Epoch 15: loss improved from 4.62987 to 4.55972, saving model to model.h5\n",
            "969/969 [==============================] - 11s 11ms/step - loss: 4.5597\n",
            "Epoch 16/100\n",
            "965/969 [============================>.] - ETA: 0s - loss: 4.4962\n",
            "Epoch 16: loss improved from 4.55972 to 4.49612, saving model to model.h5\n",
            "969/969 [==============================] - 10s 11ms/step - loss: 4.4961\n",
            "Epoch 17/100\n",
            "968/969 [============================>.] - ETA: 0s - loss: 4.4384\n",
            "Epoch 17: loss improved from 4.49612 to 4.43846, saving model to model.h5\n",
            "969/969 [==============================] - 10s 10ms/step - loss: 4.4385\n",
            "Epoch 18/100\n",
            "968/969 [============================>.] - ETA: 0s - loss: 4.3849\n",
            "Epoch 18: loss improved from 4.43846 to 4.38503, saving model to model.h5\n",
            "969/969 [==============================] - 10s 10ms/step - loss: 4.3850\n",
            "Epoch 19/100\n",
            "966/969 [============================>.] - ETA: 0s - loss: 4.3353\n",
            "Epoch 19: loss improved from 4.38503 to 4.33549, saving model to model.h5\n",
            "969/969 [==============================] - 10s 10ms/step - loss: 4.3355\n",
            "Epoch 20/100\n",
            "968/969 [============================>.] - ETA: 0s - loss: 4.2939\n",
            "Epoch 20: loss improved from 4.33549 to 4.29405, saving model to model.h5\n",
            "969/969 [==============================] - 10s 10ms/step - loss: 4.2941\n",
            "Epoch 21/100\n",
            "964/969 [============================>.] - ETA: 0s - loss: 4.2530\n",
            "Epoch 21: loss improved from 4.29405 to 4.25284, saving model to model.h5\n",
            "969/969 [==============================] - 10s 10ms/step - loss: 4.2528\n",
            "Epoch 22/100\n",
            "965/969 [============================>.] - ETA: 0s - loss: 4.2132\n",
            "Epoch 22: loss improved from 4.25284 to 4.21343, saving model to model.h5\n",
            "969/969 [==============================] - 10s 10ms/step - loss: 4.2134\n",
            "Epoch 23/100\n",
            "965/969 [============================>.] - ETA: 0s - loss: 4.1786\n",
            "Epoch 23: loss improved from 4.21343 to 4.17892, saving model to model.h5\n",
            "969/969 [==============================] - 10s 10ms/step - loss: 4.1789\n",
            "Epoch 24/100\n",
            "964/969 [============================>.] - ETA: 0s - loss: 4.1477\n",
            "Epoch 24: loss improved from 4.17892 to 4.14794, saving model to model.h5\n",
            "969/969 [==============================] - 10s 10ms/step - loss: 4.1479\n",
            "Epoch 25/100\n",
            "969/969 [==============================] - ETA: 0s - loss: 4.1173\n",
            "Epoch 25: loss improved from 4.14794 to 4.11734, saving model to model.h5\n",
            "969/969 [==============================] - 11s 11ms/step - loss: 4.1173\n",
            "Epoch 26/100\n",
            "964/969 [============================>.] - ETA: 0s - loss: 4.0889\n",
            "Epoch 26: loss improved from 4.11734 to 4.08874, saving model to model.h5\n",
            "969/969 [==============================] - 10s 10ms/step - loss: 4.0887\n",
            "Epoch 27/100\n",
            "967/969 [============================>.] - ETA: 0s - loss: 4.0622\n",
            "Epoch 27: loss improved from 4.08874 to 4.06269, saving model to model.h5\n",
            "969/969 [==============================] - 10s 10ms/step - loss: 4.0627\n",
            "Epoch 28/100\n",
            "965/969 [============================>.] - ETA: 0s - loss: 4.0375\n",
            "Epoch 28: loss improved from 4.06269 to 4.03730, saving model to model.h5\n",
            "969/969 [==============================] - 10s 11ms/step - loss: 4.0373\n",
            "Epoch 29/100\n",
            "964/969 [============================>.] - ETA: 0s - loss: 4.0127\n",
            "Epoch 29: loss improved from 4.03730 to 4.01318, saving model to model.h5\n",
            "969/969 [==============================] - 10s 10ms/step - loss: 4.0132\n",
            "Epoch 30/100\n",
            "966/969 [============================>.] - ETA: 0s - loss: 3.9884\n",
            "Epoch 30: loss improved from 4.01318 to 3.98860, saving model to model.h5\n",
            "969/969 [==============================] - 10s 10ms/step - loss: 3.9886\n",
            "Epoch 31/100\n",
            "965/969 [============================>.] - ETA: 0s - loss: 3.9679\n",
            "Epoch 31: loss improved from 3.98860 to 3.96821, saving model to model.h5\n",
            "969/969 [==============================] - 10s 10ms/step - loss: 3.9682\n",
            "Epoch 32/100\n",
            "969/969 [==============================] - ETA: 0s - loss: 3.9463\n",
            "Epoch 32: loss improved from 3.96821 to 3.94632, saving model to model.h5\n",
            "969/969 [==============================] - 10s 10ms/step - loss: 3.9463\n",
            "Epoch 33/100\n",
            "964/969 [============================>.] - ETA: 0s - loss: 3.9258\n",
            "Epoch 33: loss improved from 3.94632 to 3.92680, saving model to model.h5\n",
            "969/969 [==============================] - 10s 10ms/step - loss: 3.9268\n",
            "Epoch 34/100\n",
            "966/969 [============================>.] - ETA: 0s - loss: 3.9072\n",
            "Epoch 34: loss improved from 3.92680 to 3.90753, saving model to model.h5\n",
            "969/969 [==============================] - 11s 11ms/step - loss: 3.9075\n",
            "Epoch 35/100\n",
            "969/969 [==============================] - ETA: 0s - loss: 3.8905\n",
            "Epoch 35: loss improved from 3.90753 to 3.89048, saving model to model.h5\n",
            "969/969 [==============================] - 10s 10ms/step - loss: 3.8905\n",
            "Epoch 36/100\n",
            "968/969 [============================>.] - ETA: 0s - loss: 3.8732\n",
            "Epoch 36: loss improved from 3.89048 to 3.87310, saving model to model.h5\n",
            "969/969 [==============================] - 10s 10ms/step - loss: 3.8731\n",
            "Epoch 37/100\n",
            "969/969 [==============================] - ETA: 0s - loss: 3.8547\n",
            "Epoch 37: loss improved from 3.87310 to 3.85470, saving model to model.h5\n",
            "969/969 [==============================] - 10s 11ms/step - loss: 3.8547\n",
            "Epoch 38/100\n",
            "965/969 [============================>.] - ETA: 0s - loss: 3.8383\n",
            "Epoch 38: loss improved from 3.85470 to 3.83813, saving model to model.h5\n",
            "969/969 [==============================] - 10s 10ms/step - loss: 3.8381\n",
            "Epoch 39/100\n",
            "965/969 [============================>.] - ETA: 0s - loss: 3.8210\n",
            "Epoch 39: loss improved from 3.83813 to 3.82187, saving model to model.h5\n",
            "969/969 [==============================] - 10s 10ms/step - loss: 3.8219\n",
            "Epoch 40/100\n",
            "965/969 [============================>.] - ETA: 0s - loss: 3.8049\n",
            "Epoch 40: loss improved from 3.82187 to 3.80537, saving model to model.h5\n",
            "969/969 [==============================] - 10s 11ms/step - loss: 3.8054\n",
            "Epoch 41/100\n",
            "968/969 [============================>.] - ETA: 0s - loss: 3.7920\n",
            "Epoch 41: loss improved from 3.80537 to 3.79203, saving model to model.h5\n",
            "969/969 [==============================] - 10s 11ms/step - loss: 3.7920\n",
            "Epoch 42/100\n",
            "967/969 [============================>.] - ETA: 0s - loss: 3.7767\n",
            "Epoch 42: loss improved from 3.79203 to 3.77687, saving model to model.h5\n",
            "969/969 [==============================] - 10s 11ms/step - loss: 3.7769\n",
            "Epoch 43/100\n",
            "967/969 [============================>.] - ETA: 0s - loss: 3.7614\n",
            "Epoch 43: loss improved from 3.77687 to 3.76150, saving model to model.h5\n",
            "969/969 [==============================] - 11s 11ms/step - loss: 3.7615\n",
            "Epoch 44/100\n",
            "968/969 [============================>.] - ETA: 0s - loss: 3.7484\n",
            "Epoch 44: loss improved from 3.76150 to 3.74855, saving model to model.h5\n",
            "969/969 [==============================] - 11s 11ms/step - loss: 3.7486\n",
            "Epoch 45/100\n",
            "964/969 [============================>.] - ETA: 0s - loss: 3.7361\n",
            "Epoch 45: loss improved from 3.74855 to 3.73670, saving model to model.h5\n",
            "969/969 [==============================] - 10s 11ms/step - loss: 3.7367\n",
            "Epoch 46/100\n",
            "964/969 [============================>.] - ETA: 0s - loss: 3.7220\n",
            "Epoch 46: loss improved from 3.73670 to 3.72241, saving model to model.h5\n",
            "969/969 [==============================] - 10s 10ms/step - loss: 3.7224\n",
            "Epoch 47/100\n",
            "968/969 [============================>.] - ETA: 0s - loss: 3.7086\n",
            "Epoch 47: loss improved from 3.72241 to 3.70846, saving model to model.h5\n",
            "969/969 [==============================] - 10s 11ms/step - loss: 3.7085\n",
            "Epoch 48/100\n",
            "969/969 [==============================] - ETA: 0s - loss: 3.6969\n",
            "Epoch 48: loss improved from 3.70846 to 3.69685, saving model to model.h5\n",
            "969/969 [==============================] - 10s 11ms/step - loss: 3.6969\n",
            "Epoch 49/100\n",
            "965/969 [============================>.] - ETA: 0s - loss: 3.6848\n",
            "Epoch 49: loss improved from 3.69685 to 3.68562, saving model to model.h5\n",
            "969/969 [==============================] - 10s 11ms/step - loss: 3.6856\n",
            "Epoch 50/100\n",
            "965/969 [============================>.] - ETA: 0s - loss: 3.6740\n",
            "Epoch 50: loss improved from 3.68562 to 3.67425, saving model to model.h5\n",
            "969/969 [==============================] - 10s 11ms/step - loss: 3.6743\n",
            "Epoch 51/100\n",
            "966/969 [============================>.] - ETA: 0s - loss: 3.6597\n",
            "Epoch 51: loss improved from 3.67425 to 3.65992, saving model to model.h5\n",
            "969/969 [==============================] - 10s 10ms/step - loss: 3.6599\n",
            "Epoch 52/100\n",
            "969/969 [==============================] - ETA: 0s - loss: 3.6498\n",
            "Epoch 52: loss improved from 3.65992 to 3.64984, saving model to model.h5\n",
            "969/969 [==============================] - 11s 11ms/step - loss: 3.6498\n",
            "Epoch 53/100\n",
            "964/969 [============================>.] - ETA: 0s - loss: 3.6371\n",
            "Epoch 53: loss improved from 3.64984 to 3.63771, saving model to model.h5\n",
            "969/969 [==============================] - 10s 10ms/step - loss: 3.6377\n",
            "Epoch 54/100\n",
            "966/969 [============================>.] - ETA: 0s - loss: 3.6297\n",
            "Epoch 54: loss improved from 3.63771 to 3.62976, saving model to model.h5\n",
            "969/969 [==============================] - 10s 10ms/step - loss: 3.6298\n",
            "Epoch 55/100\n",
            "968/969 [============================>.] - ETA: 0s - loss: 3.6163\n",
            "Epoch 55: loss improved from 3.62976 to 3.61638, saving model to model.h5\n",
            "969/969 [==============================] - 10s 11ms/step - loss: 3.6164\n",
            "Epoch 56/100\n",
            "969/969 [==============================] - ETA: 0s - loss: 3.6061\n",
            "Epoch 56: loss improved from 3.61638 to 3.60609, saving model to model.h5\n",
            "969/969 [==============================] - 10s 11ms/step - loss: 3.6061\n",
            "Epoch 57/100\n",
            "967/969 [============================>.] - ETA: 0s - loss: 3.5964\n",
            "Epoch 57: loss improved from 3.60609 to 3.59644, saving model to model.h5\n",
            "969/969 [==============================] - 10s 10ms/step - loss: 3.5964\n",
            "Epoch 58/100\n",
            "966/969 [============================>.] - ETA: 0s - loss: 3.5852\n",
            "Epoch 58: loss improved from 3.59644 to 3.58552, saving model to model.h5\n",
            "969/969 [==============================] - 10s 11ms/step - loss: 3.5855\n",
            "Epoch 59/100\n",
            "965/969 [============================>.] - ETA: 0s - loss: 3.5773\n",
            "Epoch 59: loss improved from 3.58552 to 3.57747, saving model to model.h5\n",
            "969/969 [==============================] - 10s 10ms/step - loss: 3.5775\n",
            "Epoch 60/100\n",
            "967/969 [============================>.] - ETA: 0s - loss: 3.5655\n",
            "Epoch 60: loss improved from 3.57747 to 3.56564, saving model to model.h5\n",
            "969/969 [==============================] - 10s 11ms/step - loss: 3.5656\n",
            "Epoch 61/100\n",
            "966/969 [============================>.] - ETA: 0s - loss: 3.5550\n",
            "Epoch 61: loss improved from 3.56564 to 3.55524, saving model to model.h5\n",
            "969/969 [==============================] - 11s 11ms/step - loss: 3.5552\n",
            "Epoch 62/100\n",
            "966/969 [============================>.] - ETA: 0s - loss: 3.5468\n",
            "Epoch 62: loss improved from 3.55524 to 3.54703, saving model to model.h5\n",
            "969/969 [==============================] - 10s 11ms/step - loss: 3.5470\n",
            "Epoch 63/100\n",
            "968/969 [============================>.] - ETA: 0s - loss: 3.5396\n",
            "Epoch 63: loss improved from 3.54703 to 3.53960, saving model to model.h5\n",
            "969/969 [==============================] - 10s 11ms/step - loss: 3.5396\n",
            "Epoch 64/100\n",
            "965/969 [============================>.] - ETA: 0s - loss: 3.5271\n",
            "Epoch 64: loss improved from 3.53960 to 3.52789, saving model to model.h5\n",
            "969/969 [==============================] - 10s 10ms/step - loss: 3.5279\n",
            "Epoch 65/100\n",
            "965/969 [============================>.] - ETA: 0s - loss: 3.5214\n",
            "Epoch 65: loss improved from 3.52789 to 3.52173, saving model to model.h5\n",
            "969/969 [==============================] - 10s 11ms/step - loss: 3.5217\n",
            "Epoch 66/100\n",
            "969/969 [==============================] - ETA: 0s - loss: 3.5110\n",
            "Epoch 66: loss improved from 3.52173 to 3.51098, saving model to model.h5\n",
            "969/969 [==============================] - 10s 11ms/step - loss: 3.5110\n",
            "Epoch 67/100\n",
            "967/969 [============================>.] - ETA: 0s - loss: 3.5018\n",
            "Epoch 67: loss improved from 3.51098 to 3.50170, saving model to model.h5\n",
            "969/969 [==============================] - 11s 11ms/step - loss: 3.5017\n",
            "Epoch 68/100\n",
            "969/969 [==============================] - ETA: 0s - loss: 3.4924\n",
            "Epoch 68: loss improved from 3.50170 to 3.49236, saving model to model.h5\n",
            "969/969 [==============================] - 10s 10ms/step - loss: 3.4924\n",
            "Epoch 69/100\n",
            "966/969 [============================>.] - ETA: 0s - loss: 3.4829\n",
            "Epoch 69: loss improved from 3.49236 to 3.48345, saving model to model.h5\n",
            "969/969 [==============================] - 10s 11ms/step - loss: 3.4834\n",
            "Epoch 70/100\n",
            "964/969 [============================>.] - ETA: 0s - loss: 3.4788\n",
            "Epoch 70: loss improved from 3.48345 to 3.47881, saving model to model.h5\n",
            "969/969 [==============================] - 11s 11ms/step - loss: 3.4788\n",
            "Epoch 71/100\n",
            "967/969 [============================>.] - ETA: 0s - loss: 3.4705\n",
            "Epoch 71: loss improved from 3.47881 to 3.47006, saving model to model.h5\n",
            "969/969 [==============================] - 10s 11ms/step - loss: 3.4701\n",
            "Epoch 72/100\n",
            "965/969 [============================>.] - ETA: 0s - loss: 3.4606\n",
            "Epoch 72: loss improved from 3.47006 to 3.46156, saving model to model.h5\n",
            "969/969 [==============================] - 10s 11ms/step - loss: 3.4616\n",
            "Epoch 73/100\n",
            "966/969 [============================>.] - ETA: 0s - loss: 3.4526\n",
            "Epoch 73: loss improved from 3.46156 to 3.45294, saving model to model.h5\n",
            "969/969 [==============================] - 10s 10ms/step - loss: 3.4529\n",
            "Epoch 74/100\n",
            "966/969 [============================>.] - ETA: 0s - loss: 3.4451\n",
            "Epoch 74: loss improved from 3.45294 to 3.44547, saving model to model.h5\n",
            "969/969 [==============================] - 10s 10ms/step - loss: 3.4455\n",
            "Epoch 75/100\n",
            "965/969 [============================>.] - ETA: 0s - loss: 3.4371\n",
            "Epoch 75: loss improved from 3.44547 to 3.43792, saving model to model.h5\n",
            "969/969 [==============================] - 10s 11ms/step - loss: 3.4379\n",
            "Epoch 76/100\n",
            "966/969 [============================>.] - ETA: 0s - loss: 3.4303\n",
            "Epoch 76: loss improved from 3.43792 to 3.43060, saving model to model.h5\n",
            "969/969 [==============================] - 10s 10ms/step - loss: 3.4306\n",
            "Epoch 77/100\n",
            "965/969 [============================>.] - ETA: 0s - loss: 3.4216\n",
            "Epoch 77: loss improved from 3.43060 to 3.42149, saving model to model.h5\n",
            "969/969 [==============================] - 10s 10ms/step - loss: 3.4215\n",
            "Epoch 78/100\n",
            "964/969 [============================>.] - ETA: 0s - loss: 3.4161\n",
            "Epoch 78: loss improved from 3.42149 to 3.41565, saving model to model.h5\n",
            "969/969 [==============================] - 10s 11ms/step - loss: 3.4156\n",
            "Epoch 79/100\n",
            "969/969 [==============================] - ETA: 0s - loss: 3.4055\n",
            "Epoch 79: loss improved from 3.41565 to 3.40547, saving model to model.h5\n",
            "969/969 [==============================] - 10s 11ms/step - loss: 3.4055\n",
            "Epoch 80/100\n",
            "966/969 [============================>.] - ETA: 0s - loss: 3.4016\n",
            "Epoch 80: loss improved from 3.40547 to 3.40140, saving model to model.h5\n",
            "969/969 [==============================] - 11s 11ms/step - loss: 3.4014\n",
            "Epoch 81/100\n",
            "966/969 [============================>.] - ETA: 0s - loss: 3.3921\n",
            "Epoch 81: loss improved from 3.40140 to 3.39229, saving model to model.h5\n",
            "969/969 [==============================] - 10s 11ms/step - loss: 3.3923\n",
            "Epoch 82/100\n",
            "968/969 [============================>.] - ETA: 0s - loss: 3.3865\n",
            "Epoch 82: loss improved from 3.39229 to 3.38643, saving model to model.h5\n",
            "969/969 [==============================] - 10s 11ms/step - loss: 3.3864\n",
            "Epoch 83/100\n",
            "967/969 [============================>.] - ETA: 0s - loss: 3.3785\n",
            "Epoch 83: loss improved from 3.38643 to 3.37868, saving model to model.h5\n",
            "969/969 [==============================] - 10s 11ms/step - loss: 3.3787\n",
            "Epoch 84/100\n",
            "966/969 [============================>.] - ETA: 0s - loss: 3.3695\n",
            "Epoch 84: loss improved from 3.37868 to 3.37010, saving model to model.h5\n",
            "969/969 [==============================] - 10s 11ms/step - loss: 3.3701\n",
            "Epoch 85/100\n",
            "965/969 [============================>.] - ETA: 0s - loss: 3.3656\n",
            "Epoch 85: loss improved from 3.37010 to 3.36571, saving model to model.h5\n",
            "969/969 [==============================] - 10s 11ms/step - loss: 3.3657\n",
            "Epoch 86/100\n",
            "965/969 [============================>.] - ETA: 0s - loss: 3.3556\n",
            "Epoch 86: loss improved from 3.36571 to 3.35591, saving model to model.h5\n",
            "969/969 [==============================] - 10s 11ms/step - loss: 3.3559\n",
            "Epoch 87/100\n",
            "967/969 [============================>.] - ETA: 0s - loss: 3.3517\n",
            "Epoch 87: loss improved from 3.35591 to 3.35165, saving model to model.h5\n",
            "969/969 [==============================] - 10s 11ms/step - loss: 3.3517\n",
            "Epoch 88/100\n",
            "966/969 [============================>.] - ETA: 0s - loss: 3.3422\n",
            "Epoch 88: loss improved from 3.35165 to 3.34259, saving model to model.h5\n",
            "969/969 [==============================] - 11s 11ms/step - loss: 3.3426\n",
            "Epoch 89/100\n",
            "969/969 [==============================] - ETA: 0s - loss: 3.3370\n",
            "Epoch 89: loss improved from 3.34259 to 3.33699, saving model to model.h5\n",
            "969/969 [==============================] - 10s 11ms/step - loss: 3.3370\n",
            "Epoch 90/100\n",
            "968/969 [============================>.] - ETA: 0s - loss: 3.3300\n",
            "Epoch 90: loss improved from 3.33699 to 3.33004, saving model to model.h5\n",
            "969/969 [==============================] - 11s 12ms/step - loss: 3.3300\n",
            "Epoch 91/100\n",
            "969/969 [==============================] - ETA: 0s - loss: 3.3229\n",
            "Epoch 91: loss improved from 3.33004 to 3.32289, saving model to model.h5\n",
            "969/969 [==============================] - 11s 11ms/step - loss: 3.3229\n",
            "Epoch 92/100\n",
            "968/969 [============================>.] - ETA: 0s - loss: 3.3169\n",
            "Epoch 92: loss improved from 3.32289 to 3.31690, saving model to model.h5\n",
            "969/969 [==============================] - 11s 11ms/step - loss: 3.3169\n",
            "Epoch 93/100\n",
            "969/969 [==============================] - ETA: 0s - loss: 3.3106\n",
            "Epoch 93: loss improved from 3.31690 to 3.31061, saving model to model.h5\n",
            "969/969 [==============================] - 11s 11ms/step - loss: 3.3106\n",
            "Epoch 94/100\n",
            "966/969 [============================>.] - ETA: 0s - loss: 3.3047\n",
            "Epoch 94: loss improved from 3.31061 to 3.30512, saving model to model.h5\n",
            "969/969 [==============================] - 10s 11ms/step - loss: 3.3051\n",
            "Epoch 95/100\n",
            "968/969 [============================>.] - ETA: 0s - loss: 3.2990\n",
            "Epoch 95: loss improved from 3.30512 to 3.29895, saving model to model.h5\n",
            "969/969 [==============================] - 10s 11ms/step - loss: 3.2990\n",
            "Epoch 96/100\n",
            "966/969 [============================>.] - ETA: 0s - loss: 3.2927\n",
            "Epoch 96: loss improved from 3.29895 to 3.29272, saving model to model.h5\n",
            "969/969 [==============================] - 10s 11ms/step - loss: 3.2927\n",
            "Epoch 97/100\n",
            "966/969 [============================>.] - ETA: 0s - loss: 3.2857\n",
            "Epoch 97: loss improved from 3.29272 to 3.28602, saving model to model.h5\n",
            "969/969 [==============================] - 11s 12ms/step - loss: 3.2860\n",
            "Epoch 98/100\n",
            "967/969 [============================>.] - ETA: 0s - loss: 3.2798\n",
            "Epoch 98: loss improved from 3.28602 to 3.27995, saving model to model.h5\n",
            "969/969 [==============================] - 11s 11ms/step - loss: 3.2800\n",
            "Epoch 99/100\n",
            "966/969 [============================>.] - ETA: 0s - loss: 3.2730\n",
            "Epoch 99: loss improved from 3.27995 to 3.27338, saving model to model.h5\n",
            "969/969 [==============================] - 11s 11ms/step - loss: 3.2734\n",
            "Epoch 100/100\n",
            "965/969 [============================>.] - ETA: 0s - loss: 3.2676\n",
            "Epoch 100: loss improved from 3.27338 to 3.26797, saving model to model.h5\n",
            "969/969 [==============================] - 10s 11ms/step - loss: 3.2680\n"
          ]
        }
      ]
    },
    {
      "cell_type": "code",
      "source": [
        "import matplotlib.pyplot as plt\n",
        "\n",
        "plt.plot(history['loss'])\n",
        "plt.title('Model Loss')\n",
        "plt.ylabel('loss')\n",
        "plt.xlabel('epoch')"
      ],
      "metadata": {
        "id": "a4Roo_t1NW7n",
        "colab": {
          "base_uri": "https://localhost:8080/",
          "height": 312
        },
        "outputId": "172fc052-af37-4dcc-b030-96be3de94fa1"
      },
      "execution_count": 17,
      "outputs": [
        {
          "output_type": "execute_result",
          "data": {
            "text/plain": [
              "Text(0.5, 0, 'epoch')"
            ]
          },
          "metadata": {},
          "execution_count": 17
        },
        {
          "output_type": "display_data",
          "data": {
            "text/plain": [
              "<Figure size 432x288 with 1 Axes>"
            ],
            "image/png": "[encoded data removed]"
          },
          "metadata": {
            "needs_background": "light"
          }
        }
      ]
    },
    {
      "cell_type": "code",
      "source": [
        "print (X.shape)\n",
        "prediction = model.predict(X[0].reshape(1,sequence_length))\n",
        "print (prediction.shape)\n",
        "print (prediction)"
      ],
      "metadata": {
        "id": "9i5HPvd0fjdS",
        "colab": {
          "base_uri": "https://localhost:8080/"
        },
        "outputId": "b557c8c5-7055-4dcc-e417-195495d60920"
      },
      "execution_count": 18,
      "outputs": [
        {
          "output_type": "stream",
          "name": "stdout",
          "text": [
            "(123930, 2)\n",
            "1/1 [==============================] - 1s 1s/step\n",
            "(1, 8527)\n",
            "[[3.0347596e-07 3.2987655e-03 3.1322283e-03 ... 4.0446868e-19\n",
            "  4.0686498e-08 1.8552286e-12]]\n"
          ]
        }
      ]
    },
    {
      "cell_type": "code",
      "source": [
        "#Short text\n",
        "test = ['there',\n",
        "'i didn’t know it',\n",
        "'when there was',\n",
        "'more than',\n",
        "'it cannot',\n",
        "'is that a',\n",
        "'although this',\n",
        "'do you',\n",
        "'I was just',\n",
        "'do you think he was',\n",
        "'a great']\n",
        "\n",
        "for t in test:\n",
        "    example = tokenizer.texts_to_sequences([t])\n",
        "    prediction = model.predict(np.array(example))\n",
        "    predicted_word = np.argmax(prediction)\n",
        "    reverse_word_map = dict(map(reversed, tokenizer.word_index.items()))  \n",
        "    print (\"{0} -> {1}\".format(t, reverse_word_map[predicted_word]))"
      ],
      "metadata": {
        "id": "pT6Mr_l_gbeL",
        "colab": {
          "base_uri": "https://localhost:8080/"
        },
        "outputId": "eb6424b2-3c6a-4523-89d4-6b50c16bc39a"
      },
      "execution_count": 46,
      "outputs": [
        {
          "output_type": "stream",
          "name": "stdout",
          "text": [
            "1/1 [==============================] - 0s 20ms/step\n",
            "there -> were\n",
            "1/1 [==============================] - 0s 20ms/step\n",
            "i didn’t know it -> were\n",
            "1/1 [==============================] - 0s 28ms/step\n",
            "when there was -> great\n",
            "1/1 [==============================] - 0s 31ms/step\n",
            "more than -> the\n",
            "1/1 [==============================] - 0s 30ms/step\n",
            "it cannot -> be\n",
            "1/1 [==============================] - 0s 47ms/step\n",
            "is that a -> week\n",
            "1/1 [==============================] - 0s 49ms/step\n",
            "although this -> invitation\n",
            "1/1 [==============================] - 0s 32ms/step\n",
            "do you -> mean\n",
            "1/1 [==============================] - 0s 28ms/step\n",
            "I was just -> behind\n",
            "1/1 [==============================] - 0s 27ms/step\n",
            "do you think he was -> the\n",
            "1/1 [==============================] - 0s 26ms/step\n",
            "a great -> deal\n"
          ]
        }
      ]
    },
    {
      "cell_type": "code",
      "source": [
        "#Long text\n",
        "test = ['he is right there by the',\n",
        "'i didn’t know it was my',\n",
        "'yesterday i was walking and i saw',\n",
        "'i cannot believe that he is',\n",
        "'i am sure that woman is',\n",
        "'is that a ring around your',\n",
        "'he is such a beautiful',\n",
        "'do you think you can just do',\n",
        "'do you actually think you are',\n",
        "'he felt a chill down his',\n",
        "'i am the smartest person in']\n",
        "\n",
        "for t in test:\n",
        "    example = tokenizer.texts_to_sequences([t])\n",
        "    prediction = model.predict(np.array(example))\n",
        "    predicted_word = np.argmax(prediction)\n",
        "    reverse_word_map = dict(map(reversed, tokenizer.word_index.items()))  \n",
        "    print (\"{0} -> {1}\".format(t, reverse_word_map[predicted_word]))"
      ],
      "metadata": {
        "colab": {
          "base_uri": "https://localhost:8080/"
        },
        "outputId": "e8e9afeb-4765-46e0-cf66-5eadf53111ab",
        "id": "SSWVog3hDIXZ"
      },
      "execution_count": 80,
      "outputs": [
        {
          "output_type": "stream",
          "name": "stdout",
          "text": [
            "1/1 [==============================] - 0s 22ms/step\n",
            "he is right there by the -> at\n",
            "1/1 [==============================] - 0s 17ms/step\n",
            "i didn’t know it was my -> he\n",
            "1/1 [==============================] - 0s 19ms/step\n",
            "yesterday i was walking and i saw -> the\n",
            "1/1 [==============================] - 0s 16ms/step\n",
            "i cannot believe that he is -> from\n",
            "1/1 [==============================] - 0s 20ms/step\n",
            "i am sure that woman is -> said\n",
            "1/1 [==============================] - 0s 18ms/step\n",
            "is that a ring around your -> the\n",
            "1/1 [==============================] - 0s 27ms/step\n",
            "he is such a beautiful -> the\n",
            "1/1 [==============================] - 0s 19ms/step\n",
            "do you think you can just do -> the\n",
            "1/1 [==============================] - 0s 19ms/step\n",
            "do you actually think you are -> a\n",
            "1/1 [==============================] - 0s 18ms/step\n",
            "he felt a chill down his -> the\n",
            "1/1 [==============================] - 0s 21ms/step\n",
            "i am the smartest person in -> the\n"
          ]
        }
      ]
    },
    {
      "cell_type": "code",
      "source": [
        "test = []\n",
        "test.append(input())\n",
        "\n",
        "for t in test:\n",
        "    example = tokenizer.texts_to_sequences([t])\n",
        "    prediction = model.predict(np.array(example))\n",
        "    predicted_word = np.argmax(prediction)\n",
        "    reverse_word_map = dict(map(reversed, tokenizer.word_index.items()))  \n",
        "    print (\"{0} -> {1}\".format(t, reverse_word_map[predicted_word]))"
      ],
      "metadata": {
        "id": "KyAU-TmGfm5e",
        "colab": {
          "base_uri": "https://localhost:8080/"
        },
        "outputId": "24faad48-45ca-4265-c778-afa8571edfda"
      },
      "execution_count": 47,
      "outputs": [
        {
          "output_type": "stream",
          "name": "stdout",
          "text": [
            "do you think he was the man who\n",
            "1/1 [==============================] - 0s 20ms/step\n",
            "do you think he was the man who -> it\n"
          ]
        }
      ]
    }
  ]
}